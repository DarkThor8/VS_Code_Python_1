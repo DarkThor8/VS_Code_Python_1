{
 "cells": [
  {
   "cell_type": "code",
   "execution_count": 1,
   "id": "3a4f15c1",
   "metadata": {},
   "outputs": [
    {
     "data": {
      "text/plain": [
       "'Wce'"
      ]
     },
     "execution_count": 1,
     "metadata": {},
     "output_type": "execute_result"
    }
   ],
   "source": [
    "my_var = \"Welcome Rocky\"\n",
    "my_var[0:8:3]"
   ]
  },
  {
   "cell_type": "code",
   "execution_count": 3,
   "id": "5063a8c6",
   "metadata": {},
   "outputs": [
    {
     "data": {
      "text/plain": [
       "'loe'"
      ]
     },
     "execution_count": 3,
     "metadata": {},
     "output_type": "execute_result"
    }
   ],
   "source": [
    "my_var = \"Welcome Rocky\"\n",
    "my_var[::-2]\n",
    "my_var[2:8:2]"
   ]
  },
  {
   "cell_type": "code",
   "execution_count": 4,
   "id": "c64ec54c",
   "metadata": {},
   "outputs": [
    {
     "data": {
      "text/plain": [
       "True"
      ]
     },
     "execution_count": 4,
     "metadata": {},
     "output_type": "execute_result"
    }
   ],
   "source": [
    "(7-3)*2>=10%3 or not(5<2)\n"
   ]
  },
  {
   "cell_type": "markdown",
   "id": "4e0c448a",
   "metadata": {},
   "source": [
    "5+8%3/2-(4**2)<=0"
   ]
  },
  {
   "cell_type": "code",
   "execution_count": 5,
   "id": "22cb7bb8",
   "metadata": {},
   "outputs": [
    {
     "data": {
      "text/plain": [
       "True"
      ]
     },
     "execution_count": 5,
     "metadata": {},
     "output_type": "execute_result"
    }
   ],
   "source": [
    "5+8%3/2-(4**2)<=0"
   ]
  },
  {
   "cell_type": "code",
   "execution_count": 7,
   "id": "372cac74",
   "metadata": {},
   "outputs": [
    {
     "ename": "SyntaxError",
     "evalue": "unexpected EOF while parsing (4115470752.py, line 1)",
     "output_type": "error",
     "traceback": [
      "\u001b[1;36m  Input \u001b[1;32mIn [7]\u001b[1;36m\u001b[0m\n\u001b[1;33m    (2**3+4*(5-2)!=18%7 or (8/2)==4\u001b[0m\n\u001b[1;37m                                   ^\u001b[0m\n\u001b[1;31mSyntaxError\u001b[0m\u001b[1;31m:\u001b[0m unexpected EOF while parsing\n"
     ]
    }
   ],
   "source": [
    "(2**3+4*(5-2)!=18%7 or (8/2)==4"
   ]
  },
  {
   "cell_type": "code",
   "execution_count": 8,
   "id": "64260389",
   "metadata": {},
   "outputs": [
    {
     "ename": "SyntaxError",
     "evalue": "unexpected EOF while parsing (4115470752.py, line 1)",
     "output_type": "error",
     "traceback": [
      "\u001b[1;36m  Input \u001b[1;32mIn [8]\u001b[1;36m\u001b[0m\n\u001b[1;33m    (2**3+4*(5-2)!=18%7 or (8/2)==4\u001b[0m\n\u001b[1;37m                                   ^\u001b[0m\n\u001b[1;31mSyntaxError\u001b[0m\u001b[1;31m:\u001b[0m unexpected EOF while parsing\n"
     ]
    }
   ],
   "source": [
    "(2**3+4*(5-2)!=18%7 or (8/2)==4"
   ]
  },
  {
   "cell_type": "code",
   "execution_count": 10,
   "id": "23cf4915",
   "metadata": {},
   "outputs": [
    {
     "data": {
      "text/plain": [
       "True"
      ]
     },
     "execution_count": 10,
     "metadata": {},
     "output_type": "execute_result"
    }
   ],
   "source": [
    "2**3+4*(5-2)!=18%7 or (8/2)==4"
   ]
  },
  {
   "cell_type": "code",
   "execution_count": 11,
   "id": "61112ead",
   "metadata": {},
   "outputs": [
    {
     "data": {
      "text/plain": [
       "True"
      ]
     },
     "execution_count": 11,
     "metadata": {},
     "output_type": "execute_result"
    }
   ],
   "source": [
    "8+12!=4 or 4==4"
   ]
  },
  {
   "cell_type": "code",
   "execution_count": 2,
   "id": "4c379dbc",
   "metadata": {},
   "outputs": [
    {
     "data": {
      "text/plain": [
       "'ome Shashi Ka'"
      ]
     },
     "execution_count": 2,
     "metadata": {},
     "output_type": "execute_result"
    }
   ],
   "source": [
    "my_var = \"Welcome Shashi Kant\"\n",
    "my_var[4:-2]"
   ]
  },
  {
   "cell_type": "code",
   "execution_count": null,
   "id": "27ed25f1",
   "metadata": {},
   "outputs": [],
   "source": []
  }
 ],
 "metadata": {
  "kernelspec": {
   "display_name": "Python 3 (ipykernel)",
   "language": "python",
   "name": "python3"
  },
  "language_info": {
   "codemirror_mode": {
    "name": "ipython",
    "version": 3
   },
   "file_extension": ".py",
   "mimetype": "text/x-python",
   "name": "python",
   "nbconvert_exporter": "python",
   "pygments_lexer": "ipython3",
   "version": "3.9.12"
  }
 },
 "nbformat": 4,
 "nbformat_minor": 5
}
